{
 "cells": [
  {
   "cell_type": "code",
   "execution_count": 1,
   "id": "3e4c2df9-64cb-4ef1-9941-40513d8d1292",
   "metadata": {
    "id": "3e4c2df9-64cb-4ef1-9941-40513d8d1292"
   },
   "outputs": [],
   "source": [
    "from my_lib import *\n",
    "from IPython.display import clear_output\n"
   ]
  },
  {
   "cell_type": "code",
   "execution_count": 2,
   "id": "5762173c-1827-4817-aec1-32cbf526961c",
   "metadata": {
    "id": "5762173c-1827-4817-aec1-32cbf526961c"
   },
   "outputs": [],
   "source": [
    "# Khởi tạo biến toàn cục\n",
    "dang_nhap_status = False\n",
    "user = \"\""
   ]
  },
  {
   "cell_type": "code",
   "execution_count": 3,
   "id": "3459c6b2",
   "metadata": {},
   "outputs": [],
   "source": [
    "def dang_nhap():\n",
    "    global dang_nhap_status, user\n",
    "    print(\"---GAME LÔ ĐỀ HỌC---\")\n",
    "    print(\"Vui lòng đăng nhập để chơi game\")\n",
    "    \n",
    "    while True:\n",
    "        username = input(\"Nhập username: \")\n",
    "        password = input(\"Nhập password: \")\n",
    "\n",
    "        if check_dang_nhap(username, password):\n",
    "            user = username\n",
    "            dang_nhap_status = True\n",
    "            break\n",
    "        else:\n",
    "            print(\"Sai tên người dùng hoặc mật khẩu, vui lòng thử lại.\")\n",
    "    clear_output()"
   ]
  },
  {
   "cell_type": "code",
   "execution_count": 7,
   "id": "71f3a30a-4dce-422f-a198-6db0559fd948",
   "metadata": {},
   "outputs": [],
   "source": [
    "def main():\n",
    "    global dang_nhap_status, user\n",
    "    if dang_nhap_status == False:\n",
    "        dang_nhap()\n",
    "    if user == \"admin\":\n",
    "        menu_admin()\n",
    "    else:\n",
    "        menu()    \n",
    "    if user == \"admin\":\n",
    "        while True:\n",
    "            lua_chon = int(input(\"Bạn chọn: \"))\n",
    "            match lua_chon:\n",
    "                case 1:\n",
    "                    clear_output(wait=True)\n",
    "                    while True:\n",
    "                        username = input(\"Nhập username cần tạo: \")\n",
    "                        if kiem_tra_ton_tai_tai_khoan(username) == True:\n",
    "                            print(\"Tài khoản user đã tồn tại\")\n",
    "                        elif username == \"admin\":\n",
    "                            print(\"Không được tạo tài khoản admin\")\n",
    "                        else:\n",
    "                            password = input(\"Nhập password cần tạo: \")\n",
    "                            tong_tien = input(\"Nhập số tiền: \")\n",
    "                            tao_tai_khoan(username, password, tong_tien)\n",
    "                        choice = int(input(\"Bạn có muốn tạo thêm không? (0: không, 1: có)\"))\n",
    "                        if choice == 0:\n",
    "                            break\n",
    "                    clear_output()\n",
    "                    main()\n",
    "                    break\n",
    "                case 2:\n",
    "                    clear_output(wait=True)\n",
    "                    while True:\n",
    "                        username = input(\"Nhập username cần xóa: \")\n",
    "                        if kiem_tra_ton_tai_tai_khoan(username) == False:\n",
    "                            print(\"Tài khoản user không tồn tại\")\n",
    "                        elif username == \"admin\":\n",
    "                            print(\"Không được xóa tài khoản admin\")\n",
    "                        else:\n",
    "                            xoa_tai_khoan(username)\n",
    "                        choice = int(input(\"Bạn có muốn xóa thêm không? (0: không, 1: có)\"))\n",
    "                        if choice == 0:\n",
    "                            break\n",
    "                    clear_output()\n",
    "                    main()\n",
    "                    break\n",
    "                case 3:\n",
    "                    clear_output(wait=True)\n",
    "                    while True:\n",
    "                        username = input(\"Nhập username cần nạp tiền: \")\n",
    "                        if kiem_tra_ton_tai_tai_khoan(username) == False:\n",
    "                            print(\"Tài khoản user không tồn tại\")\n",
    "                        else:\n",
    "                            so_tien_nap = int(input(\"Nhập số tiền cần nạp: \"))\n",
    "                            nap_tien(username, so_tien_nap)\n",
    "                        choice = int(input(\"Bạn có muốn nạp thêm không? (0: không, 1: có)\"))\n",
    "                        if choice == 0:\n",
    "                            break\n",
    "                    clear_output()\n",
    "                    main()\n",
    "                    break\n",
    "                case 4:\n",
    "                    clear_output()\n",
    "                    while True:\n",
    "                        thong_ke_admin()\n",
    "                        choice = input(\"Nhấn Enter để quay lại menu: \")\n",
    "                        if choice == \"\":\n",
    "                            break\n",
    "                    clear_output()\n",
    "                    main()\n",
    "                    break\n",
    "                case 5:\n",
    "                    dang_nhap_status = False\n",
    "                    print(\"Chào bạn, hẹn gặp lại!\")\n",
    "                    break\n",
    "                case _:\n",
    "                    print(\"Nhập sai lựa chọn, vui lòng nhập lại !\")\n",
    "    else:\n",
    "        while True:\n",
    "            lua_chon = int(input(\"Bạn chọn: \"))\n",
    "            match lua_chon:\n",
    "                case 1:\n",
    "                    clear_output(wait=True)\n",
    "                    while True:\n",
    "                        danh_sach_so_lo = nhap_so_lo()\n",
    "                        tien_cuoc = nhap_tien_cuoc(user,len(danh_sach_so_lo))\n",
    "                        game_quay_so(user, danh_sach_so_lo, tien_cuoc)\n",
    "                        choi_tiep = int(input(\"Bạn có muốn chơi tiếp không? (0: không, 1: có)\"))\n",
    "                        if choi_tiep == 0:\n",
    "                            break\n",
    "                        else:\n",
    "                            continue\n",
    "                    clear_output()\n",
    "                    main()\n",
    "                    break\n",
    "                case 2:\n",
    "                    clear_output(wait=True)\n",
    "                    while True:\n",
    "                        password_cu = input(\"Nhập password cũ của bạn: \")\n",
    "                        if kiem_tra_tai_khoan(user,password_cu) == \"\":\n",
    "                            print(\"Sai password !\")\n",
    "                            break\n",
    "                        else:\n",
    "                            password_moi = input(\"Nhập password mới của bạn: \")\n",
    "                            doi_mat_khau(user, password_cu, password_moi)\n",
    "                        choice = int(input(\"Bạn có muốn đổi mật khẩu khác không? (0: không, 1: có)\"))\n",
    "                        if choice == 0:\n",
    "                            break\n",
    "                    clear_output()\n",
    "                    main()\n",
    "                    break\n",
    "                case 3:\n",
    "                    clear_output()\n",
    "                    while True:\n",
    "                        thong_ke_user(user)\n",
    "                        choice = input(\"Nhấn Enter để quay lại menu: \")\n",
    "                        if choice == \"\":\n",
    "                            break\n",
    "                    clear_output()\n",
    "                    main()\n",
    "                    break\n",
    "                   \n",
    "                case 4:\n",
    "                    dang_nhap_status = False\n",
    "                    print(\"Chào bạn, hẹn gặp lại!\")\n",
    "                    break\n",
    "                case _:\n",
    "                    print(\"Nhập sai lựa chọn, vui lòng nhập lại !\")\n"
   ]
  },
  {
   "cell_type": "code",
   "execution_count": 11,
   "id": "516a2091-edf1-4ca2-89cb-60d1d40bdbda",
   "metadata": {
    "colab": {
     "base_uri": "https://localhost:8080/"
    },
    "executionInfo": {
     "elapsed": 8895,
     "status": "ok",
     "timestamp": 1711077242017,
     "user": {
      "displayName": "Đăng Nguyễn Hải",
      "userId": "10439053523970398060"
     },
     "user_tz": -420
    },
    "id": "230961ee-1cdb-4afc-9df4-51cd69e918cf",
    "outputId": "f94ebb97-1055-4580-8891-5f68059bc61a"
   },
   "outputs": [
    {
     "name": "stdout",
     "output_type": "stream",
     "text": [
      "GAME LÔ ĐỀ HỌC\n",
      "1. Chơi lô\n",
      "2. Đổi mật khẩu\n",
      "3. Thống kê\n",
      "4. Đăng xuất\n"
     ]
    },
    {
     "name": "stdin",
     "output_type": "stream",
     "text": [
      "Bạn chọn:  4\n"
     ]
    },
    {
     "name": "stdout",
     "output_type": "stream",
     "text": [
      "Chào bạn, hẹn gặp lại!\n"
     ]
    }
   ],
   "source": [
    "main()"
   ]
  },
  {
   "cell_type": "code",
   "execution_count": 10,
   "id": "180ea71f-8d97-4ce0-89f9-9210257b0c2d",
   "metadata": {},
   "outputs": [
    {
     "data": {
      "text/plain": [
       "[['admin', 'admin', '2000000'],\n",
       " ['thuy', '12345', '12312321'],\n",
       " ['linhvt', '123456', '20000'],\n",
       " ['dang', '123456', '292599'],\n",
       " ['dangnha', '123456', '12000']]"
      ]
     },
     "execution_count": 10,
     "metadata": {},
     "output_type": "execute_result"
    }
   ],
   "source": [
    "lst_taikhoan = doc_file(PATH_DATA_TAI_KHOAN, \"r\")\n",
    "lst_taikhoan"
   ]
  }
 ],
 "metadata": {
  "colab": {
   "provenance": []
  },
  "kernelspec": {
   "display_name": "Python 3 (ipykernel)",
   "language": "python",
   "name": "python3"
  },
  "language_info": {
   "codemirror_mode": {
    "name": "ipython",
    "version": 3
   },
   "file_extension": ".py",
   "mimetype": "text/x-python",
   "name": "python",
   "nbconvert_exporter": "python",
   "pygments_lexer": "ipython3",
   "version": "3.12.0"
  }
 },
 "nbformat": 4,
 "nbformat_minor": 5
}
