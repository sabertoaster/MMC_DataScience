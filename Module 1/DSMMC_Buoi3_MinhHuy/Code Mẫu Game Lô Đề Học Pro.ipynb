{
 "cells": [
  {
   "cell_type": "code",
   "execution_count": null,
   "id": "3e4c2df9-64cb-4ef1-9941-40513d8d1292",
   "metadata": {
    "id": "3e4c2df9-64cb-4ef1-9941-40513d8d1292"
   },
   "outputs": [],
   "source": [
    "import random\n",
    "from IPython.display import clear_output"
   ]
  },
  {
   "cell_type": "code",
   "execution_count": null,
   "id": "5762173c-1827-4817-aec1-32cbf526961c",
   "metadata": {
    "id": "5762173c-1827-4817-aec1-32cbf526961c"
   },
   "outputs": [],
   "source": [
    "# Khởi tạo biến toàn cục\n",
    "tong_tien = 1000000\n",
    "dang_nhap_status = False"
   ]
  },
  {
   "cell_type": "code",
   "execution_count": null,
   "id": "f1aee5f0-dfcf-4baa-bac3-333212c4a145",
   "metadata": {
    "id": "f1aee5f0-dfcf-4baa-bac3-333212c4a145"
   },
   "outputs": [],
   "source": [
    "def quay_so():\n",
    "    danh_sach_giai = {}\n",
    "\n",
    "    ten_giai = [\"GIẢI NHẤT\", \"GIẢI NHÌ\", \"GIẢI BA\", \"GIẢI TƯ\", \"GIẢI NĂM\", \"GIẢI SÁU\", \"GIẢI BẢY\"]\n",
    "\n",
    "    for giai in ten_giai:\n",
    "        so = \"\"\n",
    "        for i in range(5):\n",
    "            so += str(random.randint(0, 9))  # Tạo một chữ số ngẫu nhiên từ 0 đến 9 và thêm vào số\n",
    "        danh_sach_giai[giai] = so\n",
    "\n",
    "    return danh_sach_giai\n",
    "\n"
   ]
  },
  {
   "cell_type": "code",
   "execution_count": null,
   "id": "ff437216-d2a8-4ad7-9bdf-304371be5dd3",
   "metadata": {
    "id": "ff437216-d2a8-4ad7-9bdf-304371be5dd3"
   },
   "outputs": [],
   "source": [
    "def in_danh_sach_giai(danh_sach_giai):\n",
    "    print('-' * 20)\n",
    "    print(\"---DANH SÁCH GIẢI---\")\n",
    "    for giai, so in danh_sach_giai.items():\n",
    "        print(f\"{giai}: {so}\")\n",
    "    print('-' * 20)"
   ]
  },
  {
   "cell_type": "code",
   "execution_count": null,
   "id": "442c3004-1d3a-451c-9604-fe3c5ddec93d",
   "metadata": {
    "id": "442c3004-1d3a-451c-9604-fe3c5ddec93d"
   },
   "outputs": [],
   "source": [
    "def nhap_so_lo():\n",
    "    while True:\n",
    "        so_lo_input = input(\"Nhập các số lô bạn muốn chơi, cách nhau bằng dấu phẩy: \")\n",
    "        danh_sach_so_lo = so_lo_input.split(\",\")\n",
    "\n",
    "        so_lo_hop_le = True\n",
    "\n",
    "        for so_lo in danh_sach_so_lo:\n",
    "            if len(so_lo) != 2 or not so_lo.isdigit():\n",
    "                print(\"Số lô nhập không hợp lệ. Vui lòng nhập lại.\")\n",
    "                so_lo_hop_le = False\n",
    "                break\n",
    "\n",
    "        if so_lo_hop_le:\n",
    "            return danh_sach_so_lo\n"
   ]
  },
  {
   "cell_type": "code",
   "execution_count": 1,
   "id": "c1ba69f5-094d-455e-b5a0-ca82f3a49848",
   "metadata": {
    "executionInfo": {
     "elapsed": 3,
     "status": "ok",
     "timestamp": 1712205100370,
     "user": {
      "displayName": "Đăng Nguyễn Hải",
      "userId": "10439053523970398060"
     },
     "user_tz": -420
    },
    "id": "c1ba69f5-094d-455e-b5a0-ca82f3a49848"
   },
   "outputs": [],
   "source": [
    "def nhap_tien_cuoc(so_lo_choi):\n",
    "    while True:\n",
    "        tien_cuoc = input(\"Nhập tiền cược mà bạn muốn cược (tiền cược < tổng tiền bạn có): \")\n",
    "        if tien_cuoc.isdigit() and int(tien_cuoc) * so_lo_choi < tong_tien:\n",
    "            return int(tien_cuoc)\n",
    "        else:\n",
    "            print(\"Nhập sai định dạng hoặc quá tổng tiền. Nhập lại\")"
   ]
  },
  {
   "cell_type": "code",
   "execution_count": null,
   "id": "b1db83ba-1eab-4123-bc14-205367027e88",
   "metadata": {
    "id": "b1db83ba-1eab-4123-bc14-205367027e88"
   },
   "outputs": [],
   "source": [
    "def game_quay_so(danh_sach_so_lo, tien_cuoc):\n",
    "    global tong_tien\n",
    "\n",
    "    danh_sach_giai = quay_so()\n",
    "\n",
    "    in_danh_sach_giai(danh_sach_giai)\n",
    "    dem_so_lo = 0\n",
    "    so_lo_trung = []  # Danh sách lưu trữ số lô trúng\n",
    "\n",
    "    print(\"Các số lô bạn chơi là:\", danh_sach_so_lo)\n",
    "    for giai, so_giai in danh_sach_giai.items():\n",
    "        for so_lo in danh_sach_so_lo:\n",
    "            if so_lo == so_giai[-2:]:\n",
    "                dem_so_lo += 1\n",
    "                so_lo_trung.append(so_lo)\n",
    "\n",
    "    if dem_so_lo > 0:\n",
    "        tien_thang = tien_cuoc * dem_so_lo * 70\n",
    "        tien_thua = tien_cuoc * (len(danh_sach_so_lo) - len(so_lo_trung))\n",
    "\n",
    "        tong_tien += tien_thang - tien_thua\n",
    "\n",
    "        print(f\"Bạn đã trúng {dem_so_lo} nháy!\")\n",
    "        print(\"Các số lô trúng:\", \", \".join(so_lo_trung))\n",
    "        print(f\"Số tiền bạn trúng là {tien_thang}\")\n",
    "        print(f\"Số tiền bạn thua là {tien_thua}\")\n",
    "        print(f\"Tổng tiền bạn có là {tong_tien}\")\n",
    "    else:\n",
    "        tien_thua = tien_cuoc * len(danh_sach_so_lo)\n",
    "        tong_tien -= tien_thua\n",
    "\n",
    "        print(\"Bạn đã thua lô!\")\n",
    "        print(f\"Số tiền bạn thua là {tien_thua}\")\n",
    "        print(f\"Tổng tiền bạn còn là {tong_tien}\")\n",
    "\n"
   ]
  },
  {
   "cell_type": "code",
   "execution_count": null,
   "id": "3791627e-99eb-45c9-a504-75c07857a60c",
   "metadata": {
    "id": "3791627e-99eb-45c9-a504-75c07857a60c"
   },
   "outputs": [],
   "source": [
    "def nap_tien():\n",
    "    global tong_tien\n",
    "    while True:\n",
    "        tien_nap = int(input(\"Nhập số tiền mà bạn muốn nạp: \"))\n",
    "        tong_tien += tien_nap\n",
    "        print(f\"Tổng tiền sau khi bạn nạp là {tong_tien}\")\n",
    "        nap_tiep = int(input(\"Bạn có muốn nạp tiếp không? (0: không, 1: có)\"))\n",
    "        if nap_tiep == 0:\n",
    "            break\n",
    "        else:\n",
    "            continue\n"
   ]
  },
  {
   "cell_type": "code",
   "execution_count": null,
   "id": "94a92f7e-3796-406f-b0f9-6434edbdf8c0",
   "metadata": {
    "id": "94a92f7e-3796-406f-b0f9-6434edbdf8c0"
   },
   "outputs": [],
   "source": [
    "def dang_nhap():\n",
    "    global dang_nhap_status\n",
    "    print(\"---GAME LÔ ĐỀ HỌC---\")\n",
    "    print(\"Vui lòng đăng nhập để chơi game\")\n",
    "\n",
    "    while True:\n",
    "        username = input(\"Nhập username: \")\n",
    "        password = input(\"Nhập password: \")\n",
    "\n",
    "        if username == \"admin\" and password == \"admin\":\n",
    "            dang_nhap_status = True\n",
    "            break\n",
    "        else:\n",
    "            print(\"Sai tên người dùng hoặc mật khẩu, vui lòng thử lại.\")\n",
    "    clear_output()\n",
    "    menu()"
   ]
  },
  {
   "cell_type": "code",
   "execution_count": null,
   "id": "1f8cfba8-1313-4e3d-b860-7abe07ba8928",
   "metadata": {
    "id": "1f8cfba8-1313-4e3d-b860-7abe07ba8928"
   },
   "outputs": [],
   "source": [
    "def menu():\n",
    "    print(\"GAME LÔ ĐỀ HỌC\")\n",
    "    print(\"1. Chơi lô\")\n",
    "    print(\"2. Nạp tiền\")\n",
    "    print(\"3. Đăng xuất\")"
   ]
  },
  {
   "cell_type": "code",
   "execution_count": null,
   "id": "b1e61753-6408-4524-9c61-944bd8c187bc",
   "metadata": {
    "id": "b1e61753-6408-4524-9c61-944bd8c187bc"
   },
   "outputs": [],
   "source": [
    "def main():\n",
    "    global dang_nhap_status\n",
    "    if dang_nhap_status == False:\n",
    "        dang_nhap()\n",
    "    else:\n",
    "        menu()\n",
    "    while True:\n",
    "        lua_chon = int(input(\"Bạn chọn: \"))\n",
    "        match lua_chon:\n",
    "            case 1:\n",
    "                clear_output(wait=True)\n",
    "                while True:\n",
    "                    so_lo = nhap_so_lo()\n",
    "                    tien_cuoc = nhap_tien_cuoc(len(so_lo))\n",
    "                    game_quay_so(so_lo, tien_cuoc)\n",
    "                    choi_tiep = int(input(\"Bạn có muốn chơi tiếp không? (0: không, 1: có)\"))\n",
    "                    if choi_tiep == 0:\n",
    "                        break\n",
    "                clear_output()\n",
    "                main()\n",
    "                break\n",
    "            case 2:\n",
    "                clear_output()\n",
    "                nap_tien()\n",
    "                clear_output(wait=True)\n",
    "                main()\n",
    "                break\n",
    "            case 3:\n",
    "                dang_nhap_status = False\n",
    "                print(\"Chào bạn, hẹn gặp lại!\")\n",
    "                break\n",
    "            case _:\n",
    "                print(\"Nhập sai lựa chọn, vui lòng nhập lại !\")"
   ]
  },
  {
   "cell_type": "code",
   "execution_count": null,
   "id": "230961ee-1cdb-4afc-9df4-51cd69e918cf",
   "metadata": {
    "colab": {
     "base_uri": "https://localhost:8080/"
    },
    "executionInfo": {
     "elapsed": 8895,
     "status": "ok",
     "timestamp": 1711077242017,
     "user": {
      "displayName": "Đăng Nguyễn Hải",
      "userId": "10439053523970398060"
     },
     "user_tz": -420
    },
    "id": "230961ee-1cdb-4afc-9df4-51cd69e918cf",
    "outputId": "f94ebb97-1055-4580-8891-5f68059bc61a"
   },
   "outputs": [
    {
     "name": "stdout",
     "output_type": "stream",
     "text": [
      "GAME LÔ ĐỀ HỌC\n",
      "1. Chơi lô\n",
      "2. Nạp tiền\n",
      "3. Đăng xuất\n"
     ]
    },
    {
     "name": "stdin",
     "output_type": "stream",
     "text": [
      "Bạn chọn:  3\n"
     ]
    },
    {
     "name": "stdout",
     "output_type": "stream",
     "text": [
      "Chào bạn, hẹn gặp lại!\n"
     ]
    }
   ],
   "source": [
    "main()"
   ]
  },
  {
   "cell_type": "code",
   "execution_count": null,
   "id": "7bdce8d4-6002-4264-9805-19f5896f97b4",
   "metadata": {
    "id": "7bdce8d4-6002-4264-9805-19f5896f97b4"
   },
   "outputs": [],
   "source": []
  }
 ],
 "metadata": {
  "colab": {
   "provenance": []
  },
  "kernelspec": {
   "display_name": "Python 3 (ipykernel)",
   "language": "python",
   "name": "python3"
  },
  "language_info": {
   "codemirror_mode": {
    "name": "ipython",
    "version": 3
   },
   "file_extension": ".py",
   "mimetype": "text/x-python",
   "name": "python",
   "nbconvert_exporter": "python",
   "pygments_lexer": "ipython3",
   "version": "3.12.0"
  }
 },
 "nbformat": 4,
 "nbformat_minor": 5
}
