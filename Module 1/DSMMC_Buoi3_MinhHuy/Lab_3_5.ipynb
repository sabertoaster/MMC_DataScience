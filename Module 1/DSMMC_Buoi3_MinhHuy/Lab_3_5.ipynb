{
  "nbformat": 4,
  "nbformat_minor": 0,
  "metadata": {
    "colab": {
      "provenance": []
    },
    "kernelspec": {
      "name": "python3",
      "display_name": "Python 3"
    },
    "language_info": {
      "name": "python"
    }
  },
  "cells": [
    {
      "cell_type": "markdown",
      "source": [
        "## Bài 1: Trùng lặp (list+set or list+dict) [link](https://leetcode.com/problems/contains-duplicate/)\n",
        "Cho một mảng số nguyên nums, trả về True nếu bất kỳ giá trị nào xuất hiện ít nhất hai lần trong mảng và trả về false nếu mọi phần tử đều khác biệt.  \n",
        "```\n",
        "Example 1:\n",
        "Input: nums = [1,2,3,1]\n",
        "Output: true\n",
        "\n",
        "Example 2:\n",
        "Input: nums = [1,2,3,4]\n",
        "Output: false\n",
        "\n",
        "Example 3:\n",
        "Input: nums = [1,1,1,3,3,4,3,2,4,2]\n",
        "Output: true\n",
        "```"
      ],
      "metadata": {
        "id": "YGWz73_h2lRF"
      }
    },
    {
      "cell_type": "code",
      "execution_count": 4,
      "metadata": {
        "id": "AZ5MT_3z2evo",
        "outputId": "26b1bc16-1635-4685-ec4e-02c5c59ca400",
        "colab": {
          "base_uri": "https://localhost:8080/"
        }
      },
      "outputs": [
        {
          "output_type": "stream",
          "name": "stdout",
          "text": [
            "False\n"
          ]
        }
      ],
      "source": [
        "def same(nums):\n",
        "  return len(list(set(nums))) != len(nums)\n",
        "\n",
        "print(same([1,2,3,4]))"
      ]
    },
    {
      "cell_type": "markdown",
      "source": [
        "## Bài 2: Đảo chữ nhóm (list+dict) [Link](https://leetcode.com/problems/group-anagrams/description/)\n",
        "Cho một mảng các chuỗi strs, hãy nhóm các đảo chữ cái lại với nhau. Bạn có thể trả lời câu trả lời theo bất kỳ thứ tự nào.\n",
        "\n",
        "Đảo chữ là một từ hoặc cụm từ được hình thành bằng cách sắp xếp lại các chữ cái của một từ hoặc cụm từ khác, thường sử dụng tất cả các chữ cái gốc chính xác một lần.\n",
        "\n",
        "```\n",
        "Example 1:\n",
        "Input: strs = [\"eat\",\"tea\",\"tan\",\"ate\",\"nat\",\"bat\"]\n",
        "Output: [[\"bat\"],[\"nat\",\"tan\"],[\"ate\",\"eat\",\"tea\"]]\n",
        "\n",
        "Example 2:\n",
        "Input: strs = [\"\"]\n",
        "Output: [[\"\"]]\n",
        "\n",
        "Example 3:\n",
        "Input: strs = [\"a\"]\n",
        "Output: [[\"a\"]]\n",
        "```"
      ],
      "metadata": {
        "id": "Y3_k1qYi3tJ5"
      }
    },
    {
      "cell_type": "code",
      "source": [
        "def anagram(strs: list):\n",
        "  res = {}\n",
        "  for elem in strs:\n",
        "    if tuple(sorted([*elem])) in res.keys():\n",
        "      res[tuple(sorted([*elem]))].append(elem)\n",
        "    else:\n",
        "      res[tuple(sorted([*elem]))] = [elem]\n",
        "  return [elem for elem in res.values()]\n",
        "\n",
        "strs = [\"eat\",\"tea\",\"tan\",\"ate\",\"nat\",\"bat\", 'batt']\n",
        "print(anagram(strs))"
      ],
      "metadata": {
        "id": "9BoWv8lHz3-z",
        "outputId": "b7646fc7-9c22-47f8-ff49-87855aeb1e15",
        "colab": {
          "base_uri": "https://localhost:8080/"
        }
      },
      "execution_count": 17,
      "outputs": [
        {
          "output_type": "stream",
          "name": "stdout",
          "text": [
            "[['eat', 'tea', 'ate'], ['tan', 'nat'], ['bat'], ['batt']]\n"
          ]
        }
      ]
    },
    {
      "cell_type": "code",
      "source": [
        "strs = [[1, 2, 3], [2, 3, 4], [4, 5, 6]]\n",
        "for string in strs:\n",
        "  print([*string])\n"
      ],
      "metadata": {
        "id": "ku5wmPITyqmC",
        "outputId": "358be21b-137b-4fc1-c6a7-8f90360622fb",
        "colab": {
          "base_uri": "https://localhost:8080/"
        }
      },
      "execution_count": 18,
      "outputs": [
        {
          "output_type": "stream",
          "name": "stdout",
          "text": [
            "[1, 2, 3]\n",
            "[2, 3, 4]\n",
            "[4, 5, 6]\n"
          ]
        }
      ]
    },
    {
      "cell_type": "markdown",
      "source": [
        "## Bài 3: Tổng 2 số (list+set or list+dict) [Link](https://leetcode.com/problems/two-sum/description/)\n",
        "Cho một mảng các số nguyên nums và một số nguyên đích target, trả về chỉ số của hai số sao cho tổng của chúng = target.\n",
        "\n",
        "Bạn có thể giả định rằng mỗi đầu vào sẽ có chính xác một giải pháp và bạn không được sử dụng cùng một phần tử hai lần.\n",
        "\n",
        "Bạn có thể trả lời câu trả lời theo bất kỳ thứ tự nào.\n",
        "\n",
        "```\n",
        "Example 1:\n",
        "Input: nums = [2,7,11,15], target = 9\n",
        "Output: [0,1]\n",
        "Explanation: Because nums[0] + nums[1] == 9, we return [0, 1].\n",
        "\n",
        "Example 2:\n",
        "Input: nums = [3,2,4], target = 6\n",
        "Output: [1,2]\n",
        "\n",
        "Example 3:\n",
        "Input: nums = [3,3], target = 6\n",
        "Output: [0,1]\n",
        "```"
      ],
      "metadata": {
        "id": "_85Svydr4B7I"
      }
    },
    {
      "cell_type": "code",
      "source": [],
      "metadata": {
        "id": "Z7Yu2Eqr1Kih"
      },
      "execution_count": null,
      "outputs": []
    }
  ]
}